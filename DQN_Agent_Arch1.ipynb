{
 "cells": [
  {
   "cell_type": "markdown",
   "metadata": {},
   "source": [
    "### Cab-Driver Agent"
   ]
  },
  {
   "cell_type": "code",
   "execution_count": 1,
   "metadata": {},
   "outputs": [
    {
     "name": "stderr",
     "output_type": "stream",
     "text": [
      "Using TensorFlow backend.\n"
     ]
    }
   ],
   "source": [
    "# Importing libraries\n",
    "import numpy as np\n",
    "import random\n",
    "import math\n",
    "from collections import deque\n",
    "import collections\n",
    "import pickle\n",
    "\n",
    "# for building DQN model\n",
    "from keras import layers\n",
    "from keras import Sequential\n",
    "from keras.layers import Dense, Activation, Flatten\n",
    "from keras.optimizers import Adam\n",
    "\n",
    "# for plotting graphs\n",
    "import matplotlib.pyplot as plt\n",
    "\n",
    "# Import the environment\n",
    "from Env import CabDriver\n",
    "\n",
    "import time"
   ]
  },
  {
   "cell_type": "markdown",
   "metadata": {},
   "source": [
    "#### Defining Time Matrix"
   ]
  },
  {
   "cell_type": "code",
   "execution_count": 2,
   "metadata": {},
   "outputs": [],
   "source": [
    "# Loading the time matrix provided\n",
    "Time_matrix = np.load(\"TM.npy\")"
   ]
  },
  {
   "cell_type": "markdown",
   "metadata": {},
   "source": [
    "#### Tracking the state-action pairs for checking convergence\n"
   ]
  },
  {
   "cell_type": "code",
   "execution_count": null,
   "metadata": {},
   "outputs": [],
   "source": []
  },
  {
   "cell_type": "code",
   "execution_count": null,
   "metadata": {},
   "outputs": [],
   "source": []
  },
  {
   "cell_type": "code",
   "execution_count": null,
   "metadata": {},
   "outputs": [],
   "source": []
  },
  {
   "cell_type": "code",
   "execution_count": 3,
   "metadata": {},
   "outputs": [],
   "source": [
    "#Defining a function to save the Q-dictionary as a pickle file\n",
    "def save_obj(obj, name ):\n",
    "    with open(name + '.pkl', 'wb') as f:\n",
    "        pickle.dump(obj, f, pickle.HIGHEST_PROTOCOL)"
   ]
  },
  {
   "cell_type": "markdown",
   "metadata": {},
   "source": [
    "### Agent Class\n",
    "\n",
    "If you are using this framework, you need to fill the following to complete the following code block:\n",
    "1. State and Action Size\n",
    "2. Hyperparameters\n",
    "3. Create a neural-network model in function 'build_model()'\n",
    "4. Define epsilon-greedy strategy in function 'get_action()'\n",
    "5. Complete the function 'append_sample()'. This function appends the recent experience tuple <state, action, reward, new-state> to the memory\n",
    "6. Complete the 'train_model()' function with following logic:\n",
    "   - If the memory size is greater than mini-batch size, you randomly sample experiences from memory as per the mini-batch size and do the following:\n",
    "      - Initialise your input and output batch for training the model\n",
    "      - Calculate the target Q value for each sample: reward + gamma*max(Q(s'a,))\n",
    "      - Get Q(s', a) values from the last trained model\n",
    "      - Update the input batch as your encoded state and output batch as your Q-values\n",
    "      - Then fit your DQN model using the updated input and output batch."
   ]
  },
  {
   "cell_type": "code",
   "execution_count": 4,
   "metadata": {},
   "outputs": [],
   "source": [
    "class DQNAgent:\n",
    "    def __init__(self, state_vec_size, action_space_size):\n",
    "        # Define size of state and action\n",
    "        self.state_vec_size = state_vec_size\n",
    "        self.action_space_size = action_space_size\n",
    "\n",
    "        # Write here: Specify you hyper parameters for the DQN\n",
    "        self.discount_factor = 1.0\n",
    "        self.learning_rate = 0.01     \n",
    "        self.epsilon_max = 1.0\n",
    "        self.epsilon_min = 0.0\n",
    "        self.epsilon_decay = -0.000015\n",
    "        \n",
    "        self.batch_size = 512\n",
    "        \n",
    "        # create replay memory using deque\n",
    "        self.memory = deque(maxlen=2000)\n",
    "\n",
    "        # create main model and target model\n",
    "        self.model = self.build_model()\n",
    "\n",
    "    # approximate Q function using Neural Network\n",
    "    def build_model(self):\n",
    "        # Write your code here: Add layers to your neural nets       \n",
    "        model = Sequential([\n",
    "            Dense(64, input_dim=36, activation='relu'),\n",
    "            Dense(32, activation='relu'),\n",
    "            Dense(21)  \n",
    "        ])\n",
    "        \n",
    "        model.compile(loss='mse',optimizer=Adam(lr=self.learning_rate))\n",
    "        model.summary\n",
    "        return model\n",
    "\n",
    "\n",
    "\n",
    "    def get_action(self, state_vector, time):\n",
    "    # Write your code here:\n",
    "    # get action from model using epsilon-greedy policy\n",
    "    # Decay in ε after we generate each sample from the environment    \n",
    "        epsilon = self.epsilon_min + (self.epsilon_max - self.epsilon_min) * np.exp(self.epsilon_decay*time)\n",
    "    \n",
    "        if np.random.rand() <= epsilon:\n",
    "            # explore: choose a random action from all possible actions\n",
    "            # Choose a random action from amongst 21 possible actions\n",
    "            return random.randrange(self.action_space_size)\n",
    "        else:\n",
    "            # choose the action with the highest q(s, a)\n",
    "            # the first index corresponds to the batch size, so\n",
    "            # reshape state to (1, state_vec_size) so that the first index corresponds to the batch size\n",
    "            state_vec = state_vector.reshape(1, self.state_vec_size)\n",
    "            q_value = self.model.predict(state_vec)\n",
    "            return np.argmax(q_value[0])\n",
    "        \n",
    "    def append_sample(self, state, action, reward, next_state, is_terminal):\n",
    "    # Write your code here:\n",
    "    # save sample <s,a,r,s'> to the replay memory\n",
    "        self.memory.append((state, action, reward, next_state, is_terminal))\n",
    "    \n",
    "    \n",
    "    # pick samples randomly from replay memory (with batch_size) and train the network\n",
    "    def train_model(self, action_space, time):\n",
    "        \n",
    "        if len(self.memory) > self.batch_size and time % 12 == 0:\n",
    "            # Sample batch from the memory\n",
    "            mini_batch = random.sample(self.memory, self.batch_size)\n",
    "            update_input = np.zeros((self.batch_size, self.state_vec_size))\n",
    "            update_target = np.zeros((self.batch_size, self.state_vec_size))\n",
    "            actions, rewards, is_terminals = [], [], []\n",
    "            \n",
    "            for i in range(self.batch_size):\n",
    "                state, action, reward, next_state, is_terminal = mini_batch[i]\n",
    "                \n",
    "                state_encod = env.state_encod_arch1(state)\n",
    "                next_state_encod = env.state_encod_arch1(next_state)\n",
    "                \n",
    "                update_input[i] = state_encod\n",
    "                actions.append(action)\n",
    "                rewards.append(reward)\n",
    "                update_target[i] = next_state_encod\n",
    "                is_terminals.append(is_terminal)\n",
    "                \n",
    "                \n",
    "            # Write your code from here\n",
    "            # 1. Predict the target from earlier model\n",
    "            target = self.model.predict(update_input)\n",
    "\n",
    "            # 2. Get the target for the Q-network\n",
    "            target_qval = self.model.predict(update_target)\n",
    "\n",
    "            #3. Update your 'update_input' and 'update_target' batch\n",
    "            for i in range(self.batch_size):\n",
    "                action = actions[i]\n",
    "                action_index = action_space.index(action)\n",
    "                target[i][action_index] = rewards[i] + self.discount_factor * np.max(target_qval[i])\n",
    "                \n",
    "                \n",
    "            # 4. Fit your model and track the loss values\n",
    "            self.model.fit(update_input, target, batch_size=self.batch_size, epochs=1, verbose=0)\n",
    "\n",
    "    def save(self, name):\n",
    "        self.model.save(name)"
   ]
  },
  {
   "cell_type": "code",
   "execution_count": 5,
   "metadata": {},
   "outputs": [],
   "source": [
    "Episodes = 10"
   ]
  },
  {
   "cell_type": "markdown",
   "metadata": {},
   "source": [
    "### DQN block"
   ]
  },
  {
   "cell_type": "code",
   "execution_count": 6,
   "metadata": {},
   "outputs": [],
   "source": [
    "env = CabDriver()\n",
    "state_vec_len = len(env.state_encod_arch1(env.state_init))\n",
    "agent = DQNAgent(state_vec_len, len(env.action_space))\n"
   ]
  },
  {
   "cell_type": "code",
   "execution_count": 7,
   "metadata": {},
   "outputs": [
    {
     "name": "stdout",
     "output_type": "stream",
     "text": [
      "Elapsed time(10 espisodes): 0.5744564334551493 min\n"
     ]
    }
   ],
   "source": [
    "time_steps = 0\n",
    "rewards_per_episode = []\n",
    "episodes = []\n",
    "\n",
    "start_time = time.time()\n",
    "\n",
    "for episode in range(Episodes):\n",
    "\n",
    "    # Write code here\n",
    "    # Call the environment\n",
    "    # Call all the initialised variables of the environment\n",
    "    terminal_state = False\n",
    "    score = 0\n",
    "\n",
    "    #Call the DQN agent\n",
    "    # reset at the start of each episode\n",
    "    (_, _, state, _) = env.reset()\n",
    "\n",
    "    #print(f'Start Episode:{episode}********')\n",
    "    \n",
    "    while not terminal_state:\n",
    "\n",
    "        # get action for the current state and take a step in the environment\n",
    "        state_vector = env.state_encod_arch1(state)\n",
    "        action_index = agent.get_action(state_vector, time_steps)\n",
    "        action = env.action_space[action_index]\n",
    "        \n",
    "        next_state, reward, is_terminal = env.step(state, action, Time_matrix)\n",
    "        \n",
    "        #print('-'*100)\n",
    "        #print(f'Current state:{state}, action: {action}, reward:{reward}, next_state:{next_state}, is_terminal:{is_terminal}')\n",
    "        # save the sample <s, a, r, s', done> to the replay memory\n",
    "        agent.append_sample(state, action, reward, next_state, is_terminal)\n",
    "\n",
    "        # train after each step\n",
    "        agent.train_model(env.action_space, time_steps)\n",
    "\n",
    "        # add reward to the total score of this episode\n",
    "        score += reward\n",
    "        state = next_state\n",
    "        \n",
    "        time_steps += 1\n",
    "        \n",
    "        terminal_state = is_terminal\n",
    "        \n",
    "    #print(f'End Episode:{episode}********')\n",
    "    # store total reward obtained in this episode\n",
    "    rewards_per_episode.append(score)\n",
    "    episodes.append(episode)\n",
    "    \n",
    "elapsed_time = time.time() - start_time\n",
    "print(f'Elapsed time({Episodes} espisodes): {elapsed_time/60} min')"
   ]
  },
  {
   "cell_type": "markdown",
   "metadata": {},
   "source": [
    "# Time analysis\n",
    "Elapsed time(10 episodes): 7.48 min... 1000 episodes: 748.73 mins i.e. 12 hrs... 5000 episodes: 60 hrs \n",
    "\n",
    "Elapsed time(10 espisodes with 100 timestep interval): 0.082 min... 1000 episodes: 8.25 mins...5000 episodes: 41.24 mins\n",
    "\n",
    "Elapsed time(10 espisodes with 50 timestep interval): 0.15 min... 1000 episodes: 15 mins... 5000 episodes: 75 mins\n",
    "\n",
    "Elapsed time(10 espisodes with 12 timestep interval): 0.57 min... 1000 episodes: 57 mins... 5000 episodes: 285 mins ~ 5 hrs"
   ]
  },
  {
   "cell_type": "markdown",
   "metadata": {},
   "source": [
    "# States to observe\n",
    "Current state:(2, 0.0, 1), action: (2, 0), reward:24.0, next_state:(0, 6.0, 1), is_terminal:False\n",
    "\n",
    "Current state:(1, 20.0, 0), action: (4, 2), reward:-20.0, next_state:(2, 0.0, 1), is_terminal:False\n",
    "\n",
    "Current state:(4, 16.0, 4), action: (2, 1), reward:30.0, next_state:(1, 4, 5), is_terminal:False\n",
    "\n",
    "Current state:(2, 19.0, 2), action: (0, 4), reward:-40.0, next_state:(4, 3.0, 3), is_terminal:False\n",
    "\n",
    "Current state:(2, 22.0, 5), action: (0, 0), reward:-5, next_state:(2, 23.0, 6), is_terminal:False\n"
   ]
  },
  {
   "cell_type": "code",
   "execution_count": null,
   "metadata": {},
   "outputs": [],
   "source": []
  },
  {
   "cell_type": "markdown",
   "metadata": {},
   "source": [
    "### Tracking Convergence"
   ]
  },
  {
   "cell_type": "code",
   "execution_count": null,
   "metadata": {},
   "outputs": [],
   "source": []
  },
  {
   "cell_type": "code",
   "execution_count": null,
   "metadata": {},
   "outputs": [],
   "source": []
  },
  {
   "cell_type": "code",
   "execution_count": null,
   "metadata": {},
   "outputs": [],
   "source": []
  },
  {
   "cell_type": "markdown",
   "metadata": {},
   "source": [
    "#### Epsilon-decay sample function"
   ]
  },
  {
   "cell_type": "markdown",
   "metadata": {},
   "source": [
    "<div class=\"alert alert-block alert-info\">\n",
    "Try building a similar epsilon-decay function for your model.\n",
    "</div>"
   ]
  },
  {
   "cell_type": "code",
   "execution_count": null,
   "metadata": {},
   "outputs": [],
   "source": [
    "time = np.arange(0,10000)\n",
    "epsilon = []\n",
    "for i in range(0,10000):\n",
    "    epsilon.append(0 + (1 - 0) * np.exp(-0.0009*i))"
   ]
  },
  {
   "cell_type": "code",
   "execution_count": null,
   "metadata": {},
   "outputs": [],
   "source": [
    "plt.plot(time, epsilon)\n",
    "plt.show()"
   ]
  },
  {
   "cell_type": "code",
   "execution_count": null,
   "metadata": {},
   "outputs": [],
   "source": [
    "time = np.arange(0,500000)\n",
    "epsilon = []\n",
    "for i in range(0,500000):\n",
    "    epsilon.append(0 + (1 - 0) * np.exp(-0.000015*i))"
   ]
  },
  {
   "cell_type": "code",
   "execution_count": null,
   "metadata": {},
   "outputs": [],
   "source": [
    "plt.plot(time, epsilon)\n",
    "plt.show()"
   ]
  },
  {
   "cell_type": "code",
   "execution_count": null,
   "metadata": {},
   "outputs": [],
   "source": [
    "epsilon_max = 1.0\n",
    "epsilon_decay = -0.000015\n",
    "epsilon_min = 0.00"
   ]
  },
  {
   "cell_type": "code",
   "execution_count": null,
   "metadata": {},
   "outputs": [],
   "source": [
    "time = np.arange(0,500000)\n",
    "epsilon = []\n",
    "for i in range(0,500000):\n",
    "    epsilon.append(epsilon_min + (epsilon_max - epsilon_min) * np.exp(epsilon_decay*i))"
   ]
  },
  {
   "cell_type": "code",
   "execution_count": null,
   "metadata": {},
   "outputs": [],
   "source": [
    "plt.plot(time, epsilon)\n",
    "plt.show()"
   ]
  },
  {
   "cell_type": "code",
   "execution_count": null,
   "metadata": {},
   "outputs": [],
   "source": []
  }
 ],
 "metadata": {
  "kernelspec": {
   "display_name": "Python 3",
   "language": "python",
   "name": "python3"
  },
  "language_info": {
   "codemirror_mode": {
    "name": "ipython",
    "version": 3
   },
   "file_extension": ".py",
   "mimetype": "text/x-python",
   "name": "python",
   "nbconvert_exporter": "python",
   "pygments_lexer": "ipython3",
   "version": "3.7.4"
  }
 },
 "nbformat": 4,
 "nbformat_minor": 2
}
