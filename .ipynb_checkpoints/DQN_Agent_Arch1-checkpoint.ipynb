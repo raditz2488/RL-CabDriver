{
 "cells": [
  {
   "cell_type": "markdown",
   "metadata": {},
   "source": [
    "### Cab-Driver Agent"
   ]
  },
  {
   "cell_type": "code",
   "execution_count": null,
   "metadata": {},
   "outputs": [],
   "source": [
    "# Importing libraries\n",
    "import numpy as np\n",
    "import random\n",
    "import math\n",
    "from collections import deque\n",
    "import collections\n",
    "import pickle\n",
    "\n",
    "# for building DQN model\n",
    "from keras import layers\n",
    "from keras import Sequential\n",
    "from keras.layers import Dense, Activation, Flatten\n",
    "from keras.optimizers import Adam\n",
    "\n",
    "# for plotting graphs\n",
    "import matplotlib.pyplot as plt\n",
    "\n",
    "# Import the environment\n",
    "from Env import CabDriver\n",
    "\n",
    "import time\n",
    "\n",
    "from tqdm import tqdm"
   ]
  },
  {
   "cell_type": "markdown",
   "metadata": {},
   "source": [
    "#### Defining Time Matrix"
   ]
  },
  {
   "cell_type": "code",
   "execution_count": null,
   "metadata": {},
   "outputs": [],
   "source": [
    "# Loading the time matrix provided\n",
    "Time_matrix = np.load(\"TM.npy\")"
   ]
  },
  {
   "cell_type": "markdown",
   "metadata": {},
   "source": [
    "#### Tracking the state-action pairs for checking convergence\n"
   ]
  },
  {
   "cell_type": "code",
   "execution_count": null,
   "metadata": {},
   "outputs": [],
   "source": [
    "States_track = collections.defaultdict(dict)"
   ]
  },
  {
   "cell_type": "code",
   "execution_count": null,
   "metadata": {},
   "outputs": [],
   "source": [
    "# Functions to convert state to str and vice versa\n",
    "def state_to_str(state):\n",
    "    return f'{state[0]}-{state[1]}-{state[2]}'\n",
    "\n",
    "def str_to_state(state_str):\n",
    "    state = [int(i) for i in state_str.split('-')]\n",
    "    return (state[0], state[1], state[2])"
   ]
  },
  {
   "cell_type": "code",
   "execution_count": null,
   "metadata": {},
   "outputs": [],
   "source": [
    "# Functions to convert action to str and vice versa\n",
    "def action_to_str(action):\n",
    "    return f'{action[0]}-{action[1]}'\n",
    "\n",
    "def str_to_action(action_str):\n",
    "    action = [int(i) for i in action_str.split('-')]\n",
    "    return (action[0], action[1])"
   ]
  },
  {
   "cell_type": "markdown",
   "metadata": {},
   "source": [
    "Current state:(2, 0.0, 1), action: (2, 0) \n",
    "\n",
    "Current state:(1, 20.0, 0), action: (4, 2) \n",
    "\n",
    "Current state:(4, 16.0, 4), action: (2, 1) \n",
    "\n",
    "Current state:(2, 19.0, 2), action: (0, 4)\n",
    "\n",
    "Current state:(2, 22.0, 5), action: (0, 0)\n"
   ]
  },
  {
   "cell_type": "code",
   "execution_count": null,
   "metadata": {},
   "outputs": [],
   "source": [
    "state_action_pairs = [((2, 0, 1), (2, 0)), ((1, 20, 0), (4, 2)), ((4, 16, 4), (2, 1)), ((2, 19, 2), (0, 4)), ((2, 22, 5), (0, 0))]\n",
    "\n",
    "for state_action in state_action_pairs:\n",
    "    state = state_action[0]\n",
    "    action = state_action[1]\n",
    "    \n",
    "    state_str = state_to_str(state)\n",
    "    action_str = action_to_str(action)\n",
    "    \n",
    "    States_track[state_str][action_str] = []"
   ]
  },
  {
   "cell_type": "code",
   "execution_count": null,
   "metadata": {},
   "outputs": [],
   "source": [
    "def save_tracking_states(agent, env):\n",
    "    for state_str in States_track.keys():\n",
    "        for action_str in States_track[state_str].keys():\n",
    "            state = str_to_state(state_str)\n",
    "            state_vec = env.state_encod_arch1(state)\n",
    "            #state_vec.reshape(1, agent.state_vec_size)\n",
    "            \n",
    "            action = str_to_action(action_str)\n",
    "            action_index = env.action_space.index(action)\n",
    "            \n",
    "            state_vec = state_vec.reshape(1, len(state_vec))\n",
    "            qvals = agent.model.predict(state_vec)[0]\n",
    "            qval = qvals[action_index]\n",
    "            \n",
    "            States_track[state_str][action_str].append(qval)"
   ]
  },
  {
   "cell_type": "code",
   "execution_count": null,
   "metadata": {},
   "outputs": [],
   "source": [
    "#Defining a function to save the Q-dictionary as a pickle file\n",
    "def save_obj(obj, name ):\n",
    "    with open(name + '.pkl', 'wb') as f:\n",
    "        pickle.dump(obj, f, pickle.HIGHEST_PROTOCOL)"
   ]
  },
  {
   "cell_type": "markdown",
   "metadata": {},
   "source": [
    "#### Epsilon-decay sample function"
   ]
  },
  {
   "cell_type": "markdown",
   "metadata": {},
   "source": [
    "<div class=\"alert alert-block alert-info\">\n",
    "Try building a similar epsilon-decay function for your model.\n",
    "</div>"
   ]
  },
  {
   "cell_type": "markdown",
   "metadata": {},
   "source": [
    "1K episodes"
   ]
  },
  {
   "cell_type": "code",
   "execution_count": null,
   "metadata": {},
   "outputs": [],
   "source": [
    "Episodes = 1000"
   ]
  },
  {
   "cell_type": "code",
   "execution_count": null,
   "metadata": {
    "scrolled": true
   },
   "outputs": [],
   "source": [
    "epsilon_max = 1.0\n",
    "epsilon_min = 0.01\n",
    "epsilon_decay = -0.00005\n",
    "\n",
    "avg_timestep_per_episode = 100\n",
    "episode_n = Episodes\n",
    "\n",
    "estimated_timesteps = episode_n * avg_timestep_per_episode\n",
    "\n",
    "timestep_range = np.arange(0,estimated_timesteps)\n",
    "epsilon = []\n",
    "for i in range(0,estimated_timesteps):\n",
    "    epsilon.append(epsilon_min + (epsilon_max - epsilon_min) * np.exp(epsilon_decay*i))\n",
    "    \n",
    "plt.plot(timestep_range, epsilon)\n",
    "plt.show()"
   ]
  },
  {
   "cell_type": "markdown",
   "metadata": {},
   "source": [
    "### Agent Class\n",
    "\n",
    "If you are using this framework, you need to fill the following to complete the following code block:\n",
    "1. State and Action Size\n",
    "2. Hyperparameters\n",
    "3. Create a neural-network model in function 'build_model()'\n",
    "4. Define epsilon-greedy strategy in function 'get_action()'\n",
    "5. Complete the function 'append_sample()'. This function appends the recent experience tuple <state, action, reward, new-state> to the memory\n",
    "6. Complete the 'train_model()' function with following logic:\n",
    "   - If the memory size is greater than mini-batch size, you randomly sample experiences from memory as per the mini-batch size and do the following:\n",
    "      - Initialise your input and output batch for training the model\n",
    "      - Calculate the target Q value for each sample: reward + gamma*max(Q(s'a,))\n",
    "      - Get Q(s', a) values from the last trained model\n",
    "      - Update the input batch as your encoded state and output batch as your Q-values\n",
    "      - Then fit your DQN model using the updated input and output batch."
   ]
  },
  {
   "cell_type": "code",
   "execution_count": null,
   "metadata": {},
   "outputs": [],
   "source": [
    "class DQNAgent:\n",
    "    def __init__(self, state_vec_size, action_space_size, epsilon_max, epsilon_min, epsilon_decay):\n",
    "        # Define size of state and action\n",
    "        self.state_vec_size = state_vec_size\n",
    "        self.action_space_size = action_space_size\n",
    "\n",
    "        # Write here: Specify you hyper parameters for the DQN\n",
    "        self.discount_factor = 0.95\n",
    "        self.learning_rate = 0.001     \n",
    "        \n",
    "        self.epsilon_max = epsilon_max\n",
    "        self.epsilon_min = epsilon_min\n",
    "        self.epsilon_decay = epsilon_decay\n",
    "        \n",
    "        self.batch_size = 512\n",
    "        \n",
    "        # create replay memory using deque\n",
    "        self.memory = deque(maxlen=2000)\n",
    "\n",
    "        # create main model and target model\n",
    "        self.model = self.build_model()\n",
    "\n",
    "    # approximate Q function using Neural Network\n",
    "    def build_model(self):\n",
    "        # Write your code here: Add layers to your neural nets       \n",
    "        model = Sequential([\n",
    "            Dense(64, input_dim=36, activation='relu'),\n",
    "            Dense(32, activation='relu'),\n",
    "            Dense(21)  \n",
    "        ])\n",
    "        \n",
    "        model.compile(loss='mse',optimizer=Adam(lr=self.learning_rate))\n",
    "        model.summary\n",
    "        return model\n",
    "\n",
    "\n",
    "\n",
    "    def get_action(self, state_vector, time, possible_actions, possible_actions_index):\n",
    "    # Write your code here:\n",
    "    # get action from model using epsilon-greedy policy\n",
    "    # Decay in ε after we generate each sample from the environment    \n",
    "        epsilon = self.epsilon_min + (self.epsilon_max - self.epsilon_min) * np.exp(self.epsilon_decay*time)\n",
    "    \n",
    "        if np.random.rand() <= epsilon:\n",
    "            # explore: choose a random action from all possible actions\n",
    "            # Choose a random action from amongst 21 possible actions\n",
    "            return random.sample(possible_actions, 1)[0]\n",
    "        else:\n",
    "            # choose the action with the highest q(s, a)\n",
    "            # the first index corresponds to the batch size, so\n",
    "            # reshape state to (1, state_vec_size) so that the first index corresponds to the batch size\n",
    "            state_vec = state_vector.reshape(1, self.state_vec_size)\n",
    "            q_value = self.model.predict(state_vec)[0]\n",
    "            \n",
    "            q_value_filtered = np.array([q_value[i] for i in possible_actions_index])\n",
    "            \n",
    "            q_value_filtered_index = np.argmax(q_value_filtered)\n",
    "            \n",
    "            index_of_best_action = possible_actions_index[q_value_filtered_index]\n",
    "            \n",
    "            return possible_actions[index_of_best_action]\n",
    "        \n",
    "    def append_sample(self, state, action, reward, next_state, is_terminal):\n",
    "    # Write your code here:\n",
    "    # save sample <s,a,r,s'> to the replay memory\n",
    "        self.memory.append((state, action, reward, next_state, is_terminal))\n",
    "    \n",
    "    \n",
    "    # pick samples randomly from replay memory (with batch_size) and train the network\n",
    "    def train_model(self, action_space, time):\n",
    "        \n",
    "        if len(self.memory) > self.batch_size and time % 25 == 0:\n",
    "            # Sample batch from the memory\n",
    "            mini_batch = random.sample(self.memory, self.batch_size)\n",
    "            update_input = np.zeros((self.batch_size, self.state_vec_size))\n",
    "            update_target = np.zeros((self.batch_size, self.state_vec_size))\n",
    "            actions, rewards, is_terminals = [], [], []\n",
    "            \n",
    "            for i in range(self.batch_size):\n",
    "                state, action, reward, next_state, is_terminal = mini_batch[i]\n",
    "                \n",
    "                state_encod = env.state_encod_arch1(state)\n",
    "                next_state_encod = env.state_encod_arch1(next_state)\n",
    "                \n",
    "                update_input[i] = state_encod\n",
    "                actions.append(action)\n",
    "                rewards.append(reward)\n",
    "                update_target[i] = next_state_encod\n",
    "                is_terminals.append(is_terminal)\n",
    "                \n",
    "                \n",
    "            # Write your code from here\n",
    "            # 1. Predict the target from earlier model\n",
    "            target = self.model.predict(update_input)\n",
    "\n",
    "            # 2. Get the target for the Q-network\n",
    "            target_qval = self.model.predict(update_target)\n",
    "\n",
    "            #3. Update your 'update_input' and 'update_target' batch\n",
    "            for i in range(self.batch_size):\n",
    "                action = actions[i]\n",
    "                action_index = action_space.index(action)\n",
    "                target[i][action_index] = rewards[i] + self.discount_factor * np.max(target_qval[i])\n",
    "                \n",
    "                \n",
    "            # 4. Fit your model and track the loss values\n",
    "            self.model.fit(update_input, target, batch_size=self.batch_size, epochs=1, verbose=0)\n",
    "\n",
    "    def save(self, name):\n",
    "        self.model.save(name)"
   ]
  },
  {
   "cell_type": "markdown",
   "metadata": {},
   "source": [
    "### DQN block"
   ]
  },
  {
   "cell_type": "code",
   "execution_count": null,
   "metadata": {},
   "outputs": [],
   "source": [
    "env = CabDriver()\n",
    "state_vec_len = len(env.state_encod_arch1(env.state_init))\n",
    "agent = DQNAgent(state_vec_len, len(env.action_space), epsilon_max, epsilon_min, epsilon_decay)\n"
   ]
  },
  {
   "cell_type": "code",
   "execution_count": null,
   "metadata": {
    "scrolled": true
   },
   "outputs": [],
   "source": [
    "time_steps = 0\n",
    "rewards_per_episode = []\n",
    "episodes = []\n",
    "\n",
    "start_time = time.time()\n",
    "\n",
    "time_steps_per_episode = np.zeros(Episodes)\n",
    "\n",
    "for episode in tqdm(range(Episodes)):\n",
    "\n",
    "    # Write code here\n",
    "    # Call the environment\n",
    "    # Call all the initialised variables of the environment\n",
    "    terminal_state = False\n",
    "    episode_total_score = 0\n",
    "\n",
    "    #Call the DQN agent\n",
    "    # reset at the start of each episode\n",
    "    (_, _, state, _) = env.reset()\n",
    "\n",
    "    #print(f'Start Episode:{episode}********')\n",
    "    \n",
    "    while not terminal_state:\n",
    "\n",
    "        # get action for the current state and take a step in the environment\n",
    "        state_vector = env.state_encod_arch1(state)\n",
    "        possible_actions_index, possible_actions = env.requests(state)\n",
    "        action_index = agent.get_action(state_vector, time_steps, possible_actions, possible_actions_index)\n",
    "        action = env.action_space[action_index]\n",
    "        \n",
    "        next_state, reward, is_terminal = env.step(state, action, Time_matrix)\n",
    "        \n",
    "        #print('-'*100)\n",
    "        #print(f'Current state:{state}, action: {action}, reward:{reward}, next_state:{next_state}, is_terminal:{is_terminal}')\n",
    "        # save the sample <s, a, r, s', done> to the replay memory\n",
    "        agent.append_sample(state, action, reward, next_state, is_terminal)\n",
    "\n",
    "        # train after each step\n",
    "        agent.train_model(env.action_space, time_steps)\n",
    "\n",
    "        # add reward to the total score of this episode\n",
    "        episode_total_score += reward\n",
    "        state = next_state\n",
    "        \n",
    "        time_steps += 1\n",
    "        \n",
    "        terminal_state = is_terminal\n",
    "        \n",
    "        time_steps_per_episode[episode] += 1\n",
    "        \n",
    "    #print(f'End Episode:{episode}********')\n",
    "    # store total reward obtained in this episode\n",
    "    if episode % 25 == 0:\n",
    "        # Update in memory values after every 25 episodes\n",
    "        rewards_per_episode.append(episode_total_score)\n",
    "        episodes.append(episode)\n",
    "        save_tracking_states(agent, env)\n",
    "        \n",
    "    if episode % 1000 == 0:\n",
    "        # After every 1000 episode interval dump data to the disk and also save the model\n",
    "        save_obj(States_track,'States_tracked')   \n",
    "        \n",
    "        agent.save(f'Model-{episode}')\n",
    "        \n",
    "    \n",
    "elapsed_time = time.time() - start_time\n",
    "print(f'Elapsed time({Episodes} espisodes): {elapsed_time/60} min')\n",
    "print(f'Average timesteps per episode:{np.average(time_steps_per_episode)}')"
   ]
  },
  {
   "cell_type": "markdown",
   "metadata": {},
   "source": [
    "# Time analysis\n",
    "Elapsed time(10 episodes): 7.48 min... 1000 episodes: 748.73 mins i.e. 12 hrs... 5000 episodes: 60 hrs \n",
    "\n",
    "Elapsed time(10 espisodes with 100 timestep interval): 0.082 min... 1000 episodes: 8.25 mins...5000 episodes: 41.24 mins\n",
    "\n",
    "Elapsed time(10 espisodes with 50 timestep interval): 0.15 min... 1000 episodes: 15 mins... 5000 episodes: 75 mins\n",
    "\n",
    "Elapsed time(10 espisodes with 12 timestep interval): 0.57 min... 1000 episodes: 57 mins... 5000 episodes: 285 mins ~ 5 hrs"
   ]
  },
  {
   "cell_type": "markdown",
   "metadata": {},
   "source": [
    "### Tracking Convergence"
   ]
  },
  {
   "cell_type": "markdown",
   "metadata": {},
   "source": [
    "State-action pair"
   ]
  },
  {
   "cell_type": "code",
   "execution_count": null,
   "metadata": {},
   "outputs": [],
   "source": [
    "for state_str in States_track.keys():\n",
    "    for action_str in States_track[state_str]:\n",
    "        print(state_str, action_str)"
   ]
  },
  {
   "cell_type": "code",
   "execution_count": null,
   "metadata": {},
   "outputs": [],
   "source": [
    "print(States_track['2-0-1']['2-0'][:10])\n",
    "print(States_track['1-20-0']['4-2'][:10])\n",
    "print(States_track['4-16-4']['2-1'][:10])\n",
    "print(States_track['2-19-2']['0-4'][:10])\n",
    "print(States_track['2-22-5']['0-0'][:10])\n"
   ]
  },
  {
   "cell_type": "code",
   "execution_count": null,
   "metadata": {
    "scrolled": false
   },
   "outputs": [],
   "source": [
    "rows = 5\n",
    "row_num = 0\n",
    "#episode_numbers = np.arange(threshold, EPISODES + 1, threshold)\n",
    "\n",
    "fig, ax = plt.subplots(rows,1, figsize=[15,10])\n",
    "\n",
    "\n",
    "for index, state_str in enumerate(States_track.keys()):\n",
    "    for action_str in States_track[state_str].keys():\n",
    "        \n",
    "        action_values = States_track[state_str][action_str]\n",
    "        xaxis = np.arange(len(action_values))\n",
    "        \n",
    "        ax[row_num].plot(xaxis, action_values)\n",
    "        ax[row_num].set_title(\"State: {}, Action: {}\".format(state_str, action_str))\n",
    "        \n",
    "        row_num += 1\n",
    "        \n",
    "plt.subplots_adjust(left=0.1, \n",
    "                    bottom=0.1,  \n",
    "                    right=0.9,  \n",
    "                    top=0.9,  \n",
    "                    wspace=0.4,  \n",
    "                    hspace=0.4) \n",
    "fig.suptitle('Tracked Q-values')\n",
    "plt.show()"
   ]
  },
  {
   "cell_type": "markdown",
   "metadata": {},
   "source": [
    "Rewards"
   ]
  },
  {
   "cell_type": "code",
   "execution_count": null,
   "metadata": {},
   "outputs": [],
   "source": [
    "y = rewards_per_episode\n",
    "x = list(range(0, len(y)))\n",
    "plt.plot(x,y)\n",
    "plt.title('Rewards in episodes')\n",
    "plt.show()"
   ]
  },
  {
   "cell_type": "code",
   "execution_count": null,
   "metadata": {},
   "outputs": [],
   "source": []
  },
  {
   "cell_type": "code",
   "execution_count": null,
   "metadata": {},
   "outputs": [],
   "source": []
  }
 ],
 "metadata": {
  "kernelspec": {
   "display_name": "Python 3",
   "language": "python",
   "name": "python3"
  },
  "language_info": {
   "codemirror_mode": {
    "name": "ipython",
    "version": 3
   },
   "file_extension": ".py",
   "mimetype": "text/x-python",
   "name": "python",
   "nbconvert_exporter": "python",
   "pygments_lexer": "ipython3",
   "version": "3.7.4"
  }
 },
 "nbformat": 4,
 "nbformat_minor": 2
}
